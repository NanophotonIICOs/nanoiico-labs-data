{
 "cells": [
  {
   "cell_type": "code",
   "execution_count": 1,
   "metadata": {},
   "outputs": [
    {
     "ename": "ModuleNotFoundError",
     "evalue": "No module named 'cv2'",
     "output_type": "error",
     "traceback": [
      "\u001b[0;31m---------------------------------------------------------------------------\u001b[0m",
      "\u001b[0;31mModuleNotFoundError\u001b[0m                       Traceback (most recent call last)",
      "\u001b[0;32m<ipython-input-1-07c4b761efda>\u001b[0m in \u001b[0;36m<module>\u001b[0;34m\u001b[0m\n\u001b[0;32m----> 1\u001b[0;31m \u001b[0;32mimport\u001b[0m \u001b[0mcv2\u001b[0m\u001b[0;34m\u001b[0m\u001b[0;34m\u001b[0m\u001b[0m\n\u001b[0m\u001b[1;32m      2\u001b[0m \u001b[0;32mimport\u001b[0m \u001b[0mnumpy\u001b[0m \u001b[0;32mas\u001b[0m \u001b[0mnp\u001b[0m\u001b[0;34m\u001b[0m\u001b[0;34m\u001b[0m\u001b[0m\n\u001b[1;32m      3\u001b[0m \u001b[0;32mimport\u001b[0m \u001b[0mmath\u001b[0m\u001b[0;34m\u001b[0m\u001b[0;34m\u001b[0m\u001b[0m\n\u001b[1;32m      4\u001b[0m \u001b[0;32mfrom\u001b[0m \u001b[0mmatplotlib\u001b[0m \u001b[0;32mimport\u001b[0m \u001b[0mpyplot\u001b[0m \u001b[0;32mas\u001b[0m \u001b[0mplt\u001b[0m\u001b[0;34m\u001b[0m\u001b[0;34m\u001b[0m\u001b[0m\n\u001b[1;32m      5\u001b[0m \u001b[0;32mfrom\u001b[0m \u001b[0mscipy\u001b[0m\u001b[0;34m.\u001b[0m\u001b[0mspatial\u001b[0m\u001b[0;34m.\u001b[0m\u001b[0mdistance\u001b[0m \u001b[0;32mimport\u001b[0m \u001b[0mcdist\u001b[0m\u001b[0;34m\u001b[0m\u001b[0;34m\u001b[0m\u001b[0m\n",
      "\u001b[0;31mModuleNotFoundError\u001b[0m: No module named 'cv2'"
     ]
    }
   ],
   "source": [
    "import cv2\n",
    "import numpy as np\n",
    "import math\n",
    "from matplotlib import pyplot as plt\n",
    "from scipy.spatial.distance import cdist\n",
    "\n",
    "distances=[]\n",
    "pointsl=[]\n",
    "pointsr=[]\n",
    "nx=[]\n",
    "ny=[]\n",
    "mp=[]\n",
    "lcount=0\n",
    "# function to display the coordinates of\n",
    "# of the points clicked on the image\n",
    "def click_event(event, x, y, flags, param):\n",
    "\n",
    "    # checking for left mouse clicks\n",
    "    if event == cv2.EVENT_LBUTTONDOWN:\n",
    "        pointsl.append([x,y])\n",
    "\n",
    "        # displaying the coordinates\n",
    "        # on the image window\n",
    "        font = cv2.FONT_HERSHEY_SIMPLEX\n",
    "        cv2.putText(img, '('+str(x) + ',' + str(y)+')', (x,y), font, 1, (255, 0, 0), 2)\n",
    "        cv2.circle(img, (x,y), 2, (255,0,0),thickness=-1)\n",
    "        cv2.imshow('image', img)\n",
    " \n",
    "    # checking for right mouse clicks    \n",
    "    if event==cv2.EVENT_RBUTTONDOWN:\n",
    "        pointsr.append([x,y])\n",
    "        font = cv2.FONT_HERSHEY_SIMPLEX\n",
    "        cv2.putText(img,'(' + str(x) + ',' + str(y) + ')', (x,y), font, 1, (255, 255, 0), 2)\n",
    "        cv2.circle(img, (x,y), 2, (255,255,0),thickness=-1)\n",
    "        # drawing line between points with its distance\n",
    "        if len(pointsl)==len(pointsr):\n",
    "            for i in range(len(pointsr)):\n",
    "                cv2.line(img, pointsl[i],pointsr[i], (255,255,0),1)\n",
    "                \n",
    "            mp.append([(pointsl[param[0]][0]+pointsr[param[0]][0])/2,(pointsl[param[0]][1]+pointsr[param[0]][1])/2])\n",
    "            cv2.putText(img,'d'+str(param[0])+':'+str(\"%.2f\"%math.dist(pointsl[param[0]],pointsr[param[0]])), \n",
    "                        (int(mp[param[0]][0]),int(mp[param[0]][1])),   # coordinates of the middle of the line\n",
    "                        font, 0.5, (255,255,0), 2) # Customization of text displayed\n",
    "            param[0]+=1\n",
    "            \n",
    "        cv2.imshow('image', img) \n",
    " \n",
    "img = cv2.imread('23-11-21-10x-QWells.bmp')   \n",
    "cv2.imshow('image', img)\n",
    " \n",
    "# setting mouse handler for the image    \n",
    "param=[lcount] # sends additional parameter to the function for control of distances measured\n",
    "cv2.setMouseCallback('image', click_event, param) \n",
    "\n",
    "cv2.waitKey(0)\n",
    "cv2.destroyAllWindows()\n",
    "\n",
    "distances=np.diagonal(cdist(pointsl,pointsr,'euclidean'))\n",
    "#cv2.imwrite('test.jpg',img)\n",
    "plt.imshow(img)\n",
    "plt.show()\n",
    "print(pointsl)\n",
    "print(pointsr)\n",
    "print(distances)"
   ]
  },
  {
   "cell_type": "code",
   "execution_count": null,
   "metadata": {},
   "outputs": [],
   "source": []
  }
 ],
 "metadata": {
  "interpreter": {
   "hash": "a818ab11ab10ac998ea662494f7172710092879c7c5649f6c41b582d973b9277"
  },
  "kernelspec": {
   "display_name": "Python 3",
   "language": "python",
   "name": "python3"
  },
  "language_info": {
   "codemirror_mode": {
    "name": "ipython",
    "version": 3
   },
   "file_extension": ".py",
   "mimetype": "text/x-python",
   "name": "python",
   "nbconvert_exporter": "python",
   "pygments_lexer": "ipython3",
   "version": "3.8.8"
  }
 },
 "nbformat": 4,
 "nbformat_minor": 4
}

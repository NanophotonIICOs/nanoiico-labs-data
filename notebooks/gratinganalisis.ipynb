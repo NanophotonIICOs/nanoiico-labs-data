{
 "cells": [
  {
   "cell_type": "code",
   "execution_count": 2,
   "metadata": {},
   "outputs": [
    {
     "ename": "ModuleNotFoundError",
     "evalue": "No module named 'labexp'",
     "output_type": "error",
     "traceback": [
      "\u001b[0;31m---------------------------------------------------------------------------\u001b[0m",
      "\u001b[0;31mModuleNotFoundError\u001b[0m                       Traceback (most recent call last)",
      "\u001b[0;32m<ipython-input-2-8cad72220fad>\u001b[0m in \u001b[0;36m<module>\u001b[0;34m\u001b[0m\n\u001b[1;32m      9\u001b[0m \u001b[0;32mfrom\u001b[0m \u001b[0mmatplotlib\u001b[0m\u001b[0;34m.\u001b[0m\u001b[0mgridspec\u001b[0m \u001b[0;32mimport\u001b[0m \u001b[0mGridSpec\u001b[0m\u001b[0;34m\u001b[0m\u001b[0;34m\u001b[0m\u001b[0m\n\u001b[1;32m     10\u001b[0m \u001b[0;32mfrom\u001b[0m \u001b[0mIPython\u001b[0m\u001b[0;34m.\u001b[0m\u001b[0mdisplay\u001b[0m \u001b[0;32mimport\u001b[0m \u001b[0mdisplay\u001b[0m\u001b[0;34m,\u001b[0m \u001b[0mclear_output\u001b[0m\u001b[0;34m\u001b[0m\u001b[0;34m\u001b[0m\u001b[0m\n\u001b[0;32m---> 11\u001b[0;31m \u001b[0;32mfrom\u001b[0m \u001b[0mlabexp\u001b[0m \u001b[0;32mimport\u001b[0m \u001b[0mexperiments\u001b[0m\u001b[0;34m\u001b[0m\u001b[0;34m\u001b[0m\u001b[0m\n\u001b[0m\u001b[1;32m     12\u001b[0m \u001b[0;34m\u001b[0m\u001b[0m\n\u001b[1;32m     13\u001b[0m \u001b[0mpath\u001b[0m \u001b[0;34m=\u001b[0m \u001b[0;34m'/media/labfiles/lab-exps/spectro-lab/nano/grating/exp-2022-01/2022-01-12-afm/'\u001b[0m\u001b[0;34m\u001b[0m\u001b[0;34m\u001b[0m\u001b[0m\n",
      "\u001b[0;31mModuleNotFoundError\u001b[0m: No module named 'labexp'"
     ]
    }
   ],
   "source": [
    "%matplotlib widget\n",
    "import numpy as np\n",
    "import matplotlib.pyplot as plt\n",
    "import h5py as h5\n",
    "import os\n",
    "import glob\n",
    "from os import walk\n",
    "from mpl_toolkits.mplot3d import Axes3D\n",
    "from matplotlib.gridspec import GridSpec\n",
    "from IPython.display import display, clear_output\n",
    "from labexp import experiments\n",
    "\n",
    "path = '/media/labfiles/lab-exps/spectro-lab/nano/grating/exp-2022-01/2022-01-12-afm/'\n",
    "\n",
    "exp3 = experiments(1,'nano','afm','grating')\n",
    "\n",
    "#50 nm step x\n"
   ]
  },
  {
   "cell_type": "code",
   "execution_count": 15,
   "metadata": {},
   "outputs": [
    {
     "name": "stdout",
     "output_type": "stream",
     "text": [
      "(19, 19)\n"
     ]
    }
   ],
   "source": [
    "print(np.shape(exp3.data[2][0]))\n",
    "#len(exp3[dset1[0]])"
   ]
  },
  {
   "cell_type": "code",
   "execution_count": 3,
   "metadata": {},
   "outputs": [
    {
     "data": {
      "application/vnd.jupyter.widget-view+json": {
       "model_id": "cfaad68920e94cd09e9dadb9f28ca379",
       "version_major": 2,
       "version_minor": 0
      },
      "text/plain": [
       "Canvas(toolbar=Toolbar(toolitems=[('Home', 'Reset original view', 'home', 'home'), ('Back', 'Back to previous …"
      ]
     },
     "metadata": {},
     "output_type": "display_data"
    }
   ],
   "source": [
    "fig = plt.figure(figsize=(15, 7))\n",
    "gs = GridSpec(nrows=3, ncols=2, figure=fig,wspace=0.05,width_ratios=[1,1])\n",
    "\n",
    "ax1 = fig.add_subplot(gs[0, 0])\n",
    "ax1line = fig.add_subplot(gs[0, 1])\n",
    "ax2 = fig.add_subplot(gs[1, 0])\n",
    "ax2line = fig.add_subplot(gs[1, 1])\n",
    "ax3 = fig.add_subplot(gs[2, 0])\n",
    "ax3line = fig.add_subplot(gs[2, 1])\n",
    "\n",
    "\n",
    "npix1=5\n",
    "npix2=1\n",
    "npix3=9\n",
    "\n",
    "ax1.imshow(exp3.data[0][0].T,cmap='gray',interpolation='gaussian')\n",
    "ax1.plot([0,10],[npix1,npix1],'r')\n",
    "ax1.plot([0,10],[npix2,npix2],'b')\n",
    "ax1.plot([0,10],[npix3,npix3],'k')\n",
    "\n",
    "ax2.imshow(exp3.data[1][0].T,cmap='gray',interpolation='gaussian')\n",
    "ax2.plot([0,10],[npix1,npix1],'r')\n",
    "ax2.plot([0,10],[npix2,npix2],'b')\n",
    "ax2.plot([0,10],[npix3,npix3],'k')\n",
    "\n",
    "ax3.imshow(exp3.data[2][0].T,cmap='gray',interpolation='gaussian')\n",
    "ax3.plot([0,18],[npix1,npix1],'r')\n",
    "ax3.plot([0,18],[npix2,npix2],'b')\n",
    "ax3.plot([0,18],[npix3,npix3],'k')\n",
    "\n",
    "\n",
    "#ax5.plot([0,20],[npix1,npix1],'r')\n",
    "#ax5.plot([0,20],[npix2,npix2],'b')\n",
    "\n",
    "ax1line.set_xlabel(\" $x (nm)$\")\n",
    "ax1line.plot(exp3.data[0][0][npix1],'r')\n",
    "ax1line.plot(exp3.data[0][0][npix2],'b')\n",
    "ax1line.plot(exp3.data[0][0][npix3],'k')\n",
    "ax1line.set_xticks(np.arange(0,10,2))\n",
    "ax1line.set_xticklabels(np.arange(0,10,2)*50)\n",
    "\n",
    "ax2line.set_xlabel(\" $x (nm)$\")\n",
    "ax2line.plot(exp3.data[1][0][npix1],'r')\n",
    "ax2line.plot(exp3.data[1][0][npix2],'b')\n",
    "ax2line.plot(exp3.data[1][0][npix3],'k')\n",
    "ax2line.set_xticks(np.arange(0,10,2))\n",
    "ax2line.set_xticklabels(np.arange(0,10,2)*50)\n",
    "\n",
    "ax3line.set_xlabel(\" $x (nm)$\")\n",
    "ax3line.plot(exp3.data[2][0][npix1],'r')\n",
    "ax3line.plot(exp3.data[2][0][npix2],'b')\n",
    "ax3line.plot(exp3.data[2][0][npix3],'k')\n",
    "ax3line.set_xticks(np.arange(0,18,2))\n",
    "ax3line.set_xticklabels(np.arange(0,18,2)*50)\n",
    "plt.show()"
   ]
  },
  {
   "cell_type": "code",
   "execution_count": 4,
   "metadata": {},
   "outputs": [
    {
     "data": {
      "application/vnd.jupyter.widget-view+json": {
       "model_id": "58c9f5ec796046c5b3a8aff80bfbae6b",
       "version_major": 2,
       "version_minor": 0
      },
      "text/plain": [
       "Canvas(toolbar=Toolbar(toolitems=[('Home', 'Reset original view', 'home', 'home'), ('Back', 'Back to previous …"
      ]
     },
     "metadata": {},
     "output_type": "display_data"
    },
    {
     "data": {
      "text/plain": [
       "[Text(0, 0, '0'),\n",
       " Text(2, 0, '100'),\n",
       " Text(4, 0, '200'),\n",
       " Text(6, 0, '300'),\n",
       " Text(8, 0, '400'),\n",
       " Text(10, 0, '500'),\n",
       " Text(12, 0, '600'),\n",
       " Text(14, 0, '700'),\n",
       " Text(16, 0, '800'),\n",
       " Text(18, 0, '900')]"
      ]
     },
     "execution_count": 4,
     "metadata": {},
     "output_type": "execute_result"
    }
   ],
   "source": [
    "fig2 = plt.figure(figsize=(15, 7))\n",
    "gs = GridSpec(nrows=2, ncols=2, figure=fig2,wspace=0.2,width_ratios=[1,1])\n",
    "\n",
    "ax4 = fig2.add_subplot(gs[0, 0])\n",
    "ax4line = fig2.add_subplot(gs[0, 1])\n",
    "ax5 = fig2.add_subplot(gs[1, 0])\n",
    "ax5line = fig2.add_subplot(gs[1, 1])\n",
    "\n",
    "ax4.imshow(exp3.data[3][0].T,cmap='gray',interpolation='gaussian')\n",
    "ax4.plot([0,20],[npix1,npix1],'r')\n",
    "ax4.plot([0,20],[npix2,npix2],'b')\n",
    "#ax4.plot([0,20],[npix3,npix3],'k')\n",
    "\n",
    "ax5.imshow(exp3.data[4][0].T,cmap='gray',interpolation='gaussian')\n",
    "ax5.plot([0,45],[npix2,npix2],'r')\n",
    "\n",
    "ax4line.set_xlabel(\" $x (nm)$\")\n",
    "ax4line.plot(exp3.data[3][0][npix1],'r')\n",
    "ax4line.plot(exp3.data[3][0][npix2],'b')\n",
    "ax4line.plot(exp3.data[3][0][npix3],'k')\n",
    "ax4line.set_xticks(np.arange(0,20,2))\n",
    "ax4line.set_xticklabels(np.arange(0,20,2)*50)\n",
    "\n",
    "ax5line.set_xlabel(\" $x (nm)$\")\n",
    "ax5line.plot(exp3.data[4][0][npix1],'r')\n",
    "ax5line.plot(exp3.data[4][0][npix2],'b')\n",
    "ax5line.plot(exp3.data[4][0][npix3],'k')\n",
    "ax5line.set_xticks(np.arange(0,20,2))\n",
    "ax5line.set_xticklabels(np.arange(0,20,2)*50)\n",
    "\n"
   ]
  },
  {
   "cell_type": "code",
   "execution_count": 8,
   "metadata": {},
   "outputs": [
    {
     "data": {
      "application/vnd.jupyter.widget-view+json": {
       "model_id": "01ccc2d5db0d4af58d6cc73e770c8785",
       "version_major": 2,
       "version_minor": 0
      },
      "text/plain": [
       "Canvas(toolbar=Toolbar(toolitems=[('Home', 'Reset original view', 'home', 'home'), ('Back', 'Back to previous …"
      ]
     },
     "metadata": {},
     "output_type": "display_data"
    },
    {
     "data": {
      "text/plain": [
       "<mpl_toolkits.mplot3d.art3d.Poly3DCollection at 0x7f9b075ae040>"
      ]
     },
     "execution_count": 8,
     "metadata": {},
     "output_type": "execute_result"
    }
   ],
   "source": [
    "X=np.linspace(0,500,11)\n",
    "Y=np.linspace(0,500,11)\n",
    "\n",
    "x, y = np.meshgrid(X,Y)\n",
    "z = np.array(exp3.data[0][0])\n",
    "\n",
    "fig3 = plt.figure()\n",
    "ax = plt.axes(projection='3d')\n",
    "ax.plot_surface(x,y,z,rstride=1, cstride=1,\n",
    "                cmap='viridis', edgecolor='none')"
   ]
  },
  {
   "cell_type": "code",
   "execution_count": 16,
   "metadata": {},
   "outputs": [
    {
     "data": {
      "application/vnd.jupyter.widget-view+json": {
       "model_id": "772fe347f8024803ae2dc4d3708c93ff",
       "version_major": 2,
       "version_minor": 0
      },
      "text/plain": [
       "Canvas(toolbar=Toolbar(toolitems=[('Home', 'Reset original view', 'home', 'home'), ('Back', 'Back to previous …"
      ]
     },
     "metadata": {},
     "output_type": "display_data"
    },
    {
     "data": {
      "text/plain": [
       "<mpl_toolkits.mplot3d.art3d.Poly3DCollection at 0x7f9b06835a60>"
      ]
     },
     "execution_count": 16,
     "metadata": {},
     "output_type": "execute_result"
    }
   ],
   "source": [
    "X=np.linspace(0,500,19)\n",
    "Y=np.linspace(0,500,19)\n",
    "\n",
    "x, y = np.meshgrid(Y,X)\n",
    "z = np.array(exp3.data[2][0])\n",
    "#print(np.shape(y))\n",
    "\n",
    "fig3 = plt.figure()\n",
    "ax = plt.axes(projection='3d')\n",
    "ax.plot_surface(x,y,z,rstride=1, cstride=1,\n",
    "                cmap='viridis', edgecolor='none')"
   ]
  },
  {
   "cell_type": "code",
   "execution_count": 6,
   "metadata": {},
   "outputs": [
    {
     "data": {
      "application/vnd.jupyter.widget-view+json": {
       "model_id": "8c29b8ba6c3c41398f792b726056a23e",
       "version_major": 2,
       "version_minor": 0
      },
      "text/plain": [
       "Canvas(toolbar=Toolbar(toolitems=[('Home', 'Reset original view', 'home', 'home'), ('Back', 'Back to previous …"
      ]
     },
     "metadata": {},
     "output_type": "display_data"
    },
    {
     "data": {
      "text/plain": [
       "<mpl_toolkits.mplot3d.art3d.Poly3DCollection at 0x7f9b0d231a60>"
      ]
     },
     "execution_count": 6,
     "metadata": {},
     "output_type": "execute_result"
    }
   ],
   "source": [
    "X=np.linspace(0,90,46)\n",
    "Y=np.linspace(0,6,3)\n",
    "\n",
    "x, y = np.meshgrid(Y,X)\n",
    "z = np.array(exp3.data[4][0])\n",
    "#print(np.shape(y))\n",
    "\n",
    "fig3 = plt.figure()\n",
    "ax = plt.axes(projection='3d')\n",
    "ax.plot_surface(x,y,z,rstride=1, cstride=1,\n",
    "                cmap='viridis', edgecolor='none')\n"
   ]
  },
  {
   "cell_type": "code",
   "execution_count": 14,
   "metadata": {},
   "outputs": [
    {
     "data": {
      "application/vnd.jupyter.widget-view+json": {
       "model_id": "ada45464095c48299f55f0998266aeb3",
       "version_major": 2,
       "version_minor": 0
      },
      "text/plain": [
       "Canvas(toolbar=Toolbar(toolitems=[('Home', 'Reset original view', 'home', 'home'), ('Back', 'Back to previous …"
      ]
     },
     "metadata": {},
     "output_type": "display_data"
    },
    {
     "data": {
      "text/plain": [
       "<mpl_toolkits.mplot3d.art3d.Poly3DCollection at 0x7f9b06874040>"
      ]
     },
     "execution_count": 14,
     "metadata": {},
     "output_type": "execute_result"
    }
   ],
   "source": [
    "X=np.linspace(0,90,21)\n",
    "Y=np.linspace(0,12,6)\n",
    "\n",
    "x, y = np.meshgrid(Y,X)\n",
    "z = np.array(exp3.data[3][0])\n",
    "#print(np.shape(y))\n",
    "\n",
    "fig4 = plt.figure()\n",
    "ax = plt.axes(projection='3d')\n",
    "ax.plot_surface(x,y,z,rstride=1, cstride=1,\n",
    "                cmap='viridis', edgecolor='none')"
   ]
  },
  {
   "cell_type": "code",
   "execution_count": null,
   "metadata": {},
   "outputs": [],
   "source": []
  }
 ],
 "metadata": {
  "interpreter": {
   "hash": "0290bcaed8ae727158078249bd81fa4aee6fb57ec1a898a94a9d63670f3f9ab0"
  },
  "kernelspec": {
   "display_name": "Python 3",
   "language": "python",
   "name": "python3"
  },
  "language_info": {
   "codemirror_mode": {
    "name": "ipython",
    "version": 3
   },
   "file_extension": ".py",
   "mimetype": "text/x-python",
   "name": "python",
   "nbconvert_exporter": "python",
   "pygments_lexer": "ipython3",
   "version": "3.8.8"
  }
 },
 "nbformat": 4,
 "nbformat_minor": 4
}
